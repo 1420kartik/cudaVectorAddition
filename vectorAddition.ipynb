{
  "nbformat": 4,
  "nbformat_minor": 0,
  "metadata": {
    "colab": {
      "provenance": [],
      "gpuType": "T4",
      "authorship_tag": "ABX9TyOvEB1qcdl1pGSzlnvZteCB",
      "include_colab_link": true
    },
    "kernelspec": {
      "name": "python3",
      "display_name": "Python 3"
    },
    "language_info": {
      "name": "python"
    },
    "accelerator": "GPU"
  },
  "cells": [
    {
      "cell_type": "markdown",
      "metadata": {
        "id": "view-in-github",
        "colab_type": "text"
      },
      "source": [
        "<a href=\"https://colab.research.google.com/github/1420kartik/cudaVectorAddition/blob/main/vectorAddition.ipynb\" target=\"_parent\"><img src=\"https://colab.research.google.com/assets/colab-badge.svg\" alt=\"Open In Colab\"/></a>"
      ]
    },
    {
      "cell_type": "markdown",
      "source": [
        "# Imports"
      ],
      "metadata": {
        "id": "4OlnXyoc7NBW"
      }
    },
    {
      "cell_type": "code",
      "execution_count": 1,
      "metadata": {
        "id": "rL_g7f_I7FZM"
      },
      "outputs": [],
      "source": [
        "from numba import cuda\n",
        "import numpy as np"
      ]
    },
    {
      "cell_type": "markdown",
      "source": [
        "# Addition Function"
      ],
      "metadata": {
        "id": "zItaAWWB7R8t"
      }
    },
    {
      "cell_type": "code",
      "source": [
        "@cuda.jit\n",
        "def vector_addition(a, b, c):\n",
        "    idx = cuda.grid(1)\n",
        "    if idx < a.size:\n",
        "        c[idx] = a[idx] + b[idx]"
      ],
      "metadata": {
        "id": "L-36RiIk8rU8"
      },
      "execution_count": 2,
      "outputs": []
    },
    {
      "cell_type": "markdown",
      "source": [
        "# Main"
      ],
      "metadata": {
        "id": "1p-w57wi7dfq"
      }
    },
    {
      "cell_type": "code",
      "source": [
        "n = 1024  # Size of vectors"
      ],
      "metadata": {
        "id": "iRcQ4wDU7aMO"
      },
      "execution_count": 3,
      "outputs": []
    },
    {
      "cell_type": "code",
      "source": [
        "# Initializing the vectors locally\n",
        "a = np.ones(n, dtype=np.float32)\n",
        "b = np.ones(n, dtype=np.float32)\n",
        "c = np.zeros(n, dtype=np.float32)"
      ],
      "metadata": {
        "id": "9jQ2kfbN7iFR"
      },
      "execution_count": 4,
      "outputs": []
    },
    {
      "cell_type": "code",
      "source": [
        "# Moving the vectors to GPU\n",
        "a_device = cuda.to_device(a)\n",
        "b_device = cuda.to_device(b)\n",
        "c_device = cuda.to_device(c)"
      ],
      "metadata": {
        "id": "jVLG8b1o7j7A"
      },
      "execution_count": 5,
      "outputs": []
    },
    {
      "cell_type": "code",
      "source": [
        "# 4 blocks with 256 threads each will efficiently calculate the sum of our vectors\n",
        "threads_per_block = 256\n",
        "blocks_per_grid = 4"
      ],
      "metadata": {
        "id": "jdmLtvHR7lwo"
      },
      "execution_count": 6,
      "outputs": []
    },
    {
      "cell_type": "code",
      "source": [
        "# Launching the CUDA kernel\n",
        "vector_addition[blocks_per_grid, threads_per_block](a_device, b_device, c_device)"
      ],
      "metadata": {
        "colab": {
          "base_uri": "https://localhost:8080/"
        },
        "id": "q5xgbkyD77Ts",
        "outputId": "5369f12b-81cd-4283-def7-ab634fb635a0"
      },
      "execution_count": 7,
      "outputs": [
        {
          "output_type": "stream",
          "name": "stderr",
          "text": [
            "/usr/local/lib/python3.10/dist-packages/numba/cuda/dispatcher.py:536: NumbaPerformanceWarning: Grid size 4 will likely result in GPU under-utilization due to low occupancy.\n",
            "  warn(NumbaPerformanceWarning(msg))\n"
          ]
        }
      ]
    },
    {
      "cell_type": "code",
      "source": [
        "# Moving the result to local system\n",
        "c = c_device.copy_to_host()"
      ],
      "metadata": {
        "id": "XDOZR4-g79Yx"
      },
      "execution_count": 8,
      "outputs": []
    },
    {
      "cell_type": "code",
      "source": [
        "print(\"Result of vector addition:\", c)"
      ],
      "metadata": {
        "colab": {
          "base_uri": "https://localhost:8080/"
        },
        "id": "XsbYnFFY88xb",
        "outputId": "230a2908-4cb9-4db8-ba11-af908369f7cf"
      },
      "execution_count": 9,
      "outputs": [
        {
          "output_type": "stream",
          "name": "stdout",
          "text": [
            "Result of vector addition: [2. 2. 2. ... 2. 2. 2.]\n"
          ]
        }
      ]
    }
  ]
}